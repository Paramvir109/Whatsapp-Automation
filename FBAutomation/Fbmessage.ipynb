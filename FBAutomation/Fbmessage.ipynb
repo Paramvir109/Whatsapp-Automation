{
 "cells": [
  {
   "cell_type": "code",
   "execution_count": 10,
   "metadata": {
    "collapsed": true
   },
   "outputs": [],
   "source": [
    "import selenium\n",
    "from selenium import webdriver\n",
    "from selenium.webdriver.common.keys import Keys\n",
    "import time\n",
    "from selenium.webdriver.common.action_chains import ActionChains"
   ]
  },
  {
   "cell_type": "code",
   "execution_count": 11,
   "metadata": {
    "collapsed": true
   },
   "outputs": [],
   "source": [
    "#Variables\n",
    "name = \"\"\n",
    "msg = \"\"\n",
    "email = \"\"\n",
    "password = \"\"\n",
    "\n",
    "\n",
    "\n",
    "\n",
    "def askDetails():\n",
    "    global name,msg,email,password\n",
    "    email = input(\"Enter your email \")\n",
    "    password = input(\"Enter your password \")\n",
    "    name = input(\"Enter name whom to message \")\n",
    "    msg = input(\"Enter the message body \")\n",
    "    \n",
    "    "
   ]
  },
  {
   "cell_type": "code",
   "execution_count": 12,
   "metadata": {
    "collapsed": true
   },
   "outputs": [],
   "source": [
    "def openPage():\n",
    "    web.get(\"https://www.facebook.com/\")"
   ]
  },
  {
   "cell_type": "code",
   "execution_count": 13,
   "metadata": {
    "collapsed": true
   },
   "outputs": [],
   "source": [
    "def openFbId():\n",
    "    time.sleep(5)\n",
    "    emailArea = web.find_element_by_id('email')\n",
    "    emailArea.send_keys(email)\n",
    "    passwordArea = web.find_element_by_id('pass')\n",
    "    passwordArea.send_keys(password)\n",
    "    login = web.find_element_by_id('loginbutton')\n",
    "    time.sleep(2)\n",
    "    login.click()"
   ]
  },
  {
   "cell_type": "code",
   "execution_count": 14,
   "metadata": {
    "collapsed": true
   },
   "outputs": [],
   "source": [
    "def search():\n",
    "    time.sleep(5)\n",
    "    search = web.find_element_by_css_selector('input._58al')\n",
    "    search.send_keys(name)\n",
    "    time.sleep(3)\n",
    "    search = web.find_element_by_css_selector('input._58al')\n",
    "    search.send_keys(Keys.RETURN)\n",
    "def sendmessage():\n",
    "    time.sleep(5)\n",
    "    actions = ActionChains(web)\n",
    "    actions.send_keys(msg)\n",
    "    actions.send_keys(Keys.RETURN)\n",
    "    actions.perform()\n",
    "\n"
   ]
  },
  {
   "cell_type": "code",
   "execution_count": 15,
   "metadata": {
    "collapsed": true
   },
   "outputs": [],
   "source": [
    "def close():\n",
    "    first = web.find_element_by_id('userNavigationLabel')\n",
    "    first.click()\n",
    "    time.sleep(2)\n",
    "    logoutMenu =web.find_elements_by_class_name('_54nh')\n",
    "    logoutMenu[8].click()\n",
    "\n",
    "    "
   ]
  },
  {
   "cell_type": "code",
   "execution_count": 17,
   "metadata": {},
   "outputs": [
    {
     "name": "stdout",
     "output_type": "stream",
     "text": [
      "Enter your email paramvir109@gmail.com\n",
      "Enter your password @P73324222110$\n",
      "Enter name whom to message Divyansh Raj\n",
      "Enter the message body test\n"
     ]
    }
   ],
   "source": [
    "web = webdriver.Chrome(executable_path=r\"C:\\Users\\Param\\Anaconda3\\chromedriver_win32\\chromedriver.exe\")\n",
    "askDetails()\n",
    "openPage()\n",
    "openFbId()\n",
    "search()\n",
    "sendmessage()\n",
    "close()\n",
    "\n"
   ]
  },
  {
   "cell_type": "code",
   "execution_count": null,
   "metadata": {
    "collapsed": true
   },
   "outputs": [],
   "source": []
  },
  {
   "cell_type": "code",
   "execution_count": 18,
   "metadata": {
    "collapsed": true
   },
   "outputs": [],
   "source": [
    "web.close()"
   ]
  },
  {
   "cell_type": "code",
   "execution_count": null,
   "metadata": {
    "collapsed": true
   },
   "outputs": [],
   "source": []
  }
 ],
 "metadata": {
  "kernelspec": {
   "display_name": "Python 3",
   "language": "python",
   "name": "python3"
  },
  "language_info": {
   "codemirror_mode": {
    "name": "ipython",
    "version": 3
   },
   "file_extension": ".py",
   "mimetype": "text/x-python",
   "name": "python",
   "nbconvert_exporter": "python",
   "pygments_lexer": "ipython3",
   "version": "3.6.2"
  }
 },
 "nbformat": 4,
 "nbformat_minor": 2
}
